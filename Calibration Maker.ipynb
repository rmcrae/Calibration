{
 "cells": [
  {
   "cell_type": "code",
   "execution_count": 9,
   "metadata": {},
   "outputs": [],
   "source": [
    "import xlwings as xw\n",
    "import numpy as np\n",
    "from pathlib import *\n",
    "from ipyfilechooser import FileChooser  # see pypi.org/project/ipyfilechooser/\n",
    "import os"
   ]
  },
  {
   "cell_type": "code",
   "execution_count": 13,
   "metadata": {},
   "outputs": [
    {
     "data": {
      "application/vnd.jupyter.widget-view+json": {
       "model_id": "07d7f0685b694df9b5dd82cfd4a7ef5d",
       "version_major": 2,
       "version_minor": 0
      },
      "text/plain": [
       "FileChooser(path='F:', filename='', title='HTML(value='Select Directory containing \"calibration data.xlsx\"')',…"
      ]
     },
     "metadata": {},
     "output_type": "display_data"
    }
   ],
   "source": [
    "root = os.path.abspath(os.sep)\n",
    "fc = FileChooser(root)\n",
    "fc.use_dir_icons\n",
    "fc.show_only_dirs\n",
    "fc.title = 'Select Directory containing \"calibration data.xlsx\"'\n",
    "display(fc)\n",
    "#base = Path(fc.selected_path)\n"
   ]
  },
  {
   "cell_type": "code",
   "execution_count": 15,
   "metadata": {},
   "outputs": [],
   "source": [
    "base = Path(fc.selected_path)\n",
    "def get_data(filename = \"calibration data.xlsx\"):\n",
    "    wb = xw.Book(base / filename)\n",
    "    wks = wb.sheets[\"data\"]\n",
    "    data = np.array(wks.range('data').value)\n",
    "    wb.close()\n",
    "    \n",
    "    # convert to dictionary for output\n",
    "    dd = {}\n",
    "    for i, label in enumerate(data[0]):\n",
    "        dd[label] = data[2:, i].astype(np.float)      \n",
    "\n",
    "    return dd"
   ]
  },
  {
   "cell_type": "code",
   "execution_count": 25,
   "metadata": {},
   "outputs": [],
   "source": [
    "def fill_calibration(nSet = 1):\n",
    "    n = nSet - 1\n",
    "    # open template and select worksheet:\n",
    "    wb = xw.Book(base / \"calibration template.xltx\")\n",
    "    wks = wb.sheets['data']\n",
    "\n",
    "    # formats for temperatures and masses\n",
    "    degC = \"{} \\xb0C\"\n",
    "    massForm = \"{} g\"\n",
    "\n",
    "    # Calibration section:\n",
    "    wks.range('T_water').value = degC.format(dd['T_water'][n])\n",
    "    wks.range(\"flask_mass\").value = massForm.format(dd['flask_mass'][n])\n",
    "    # rename masses\n",
    "    massNames = ['w_mass' + str(i) for i in range(1, 6)]\n",
    "    masses = [dd[item][n] for item in massNames]\n",
    "    for i, row in enumerate(wks.range('flask_masses').rows):\n",
    "        row.value = massForm.format(masses[i])\n",
    "\n",
    "    # Unknown section:\n",
    "    wks.range(\"unk_no\").value = dd[\"unk_no\"][n]\n",
    "    wks.range(\"T_unk\").value = degC.format(dd[\"T_unk\"][n])\n",
    "    wks.range('flask_mass2').value = massForm.format(dd['flask_mass2'][n])\n",
    "    # rename unknown masses\n",
    "    massNames = ['unk_mass' + str(i) for i in range(1, 4)]\n",
    "    masses = [dd[item][n] for item in massNames]\n",
    "    for i, row in enumerate(wks.range('unk_masses').rows):\n",
    "        row.value = massForm.format(masses[i])\n",
    "\n",
    "    # save a copy as pdf, and a copy as a workbook\n",
    "    # wb.save(base / f\"Calibration Set {nSet}.xlsx\")\n",
    "    wb.to_pdf(base / f\"Calibration Set {nSet}.pdf\")\n",
    "    wb.close()"
   ]
  },
  {
   "cell_type": "code",
   "execution_count": 23,
   "metadata": {},
   "outputs": [],
   "source": [
    "dd = get_data()"
   ]
  },
  {
   "cell_type": "code",
   "execution_count": 24,
   "metadata": {},
   "outputs": [],
   "source": [
    "fill_calibration()"
   ]
  },
  {
   "cell_type": "code",
   "execution_count": 27,
   "metadata": {},
   "outputs": [
    {
     "data": {
      "text/plain": [
       "'0.21.4'"
      ]
     },
     "execution_count": 27,
     "metadata": {},
     "output_type": "execute_result"
    }
   ],
   "source": [
    "xw.__version__"
   ]
  },
  {
   "cell_type": "code",
   "execution_count": 28,
   "metadata": {},
   "outputs": [],
   "source": [
    "import ipyfilechooser"
   ]
  },
  {
   "cell_type": "code",
   "execution_count": 29,
   "metadata": {},
   "outputs": [
    {
     "data": {
      "text/plain": [
       "'0.4.1'"
      ]
     },
     "execution_count": 29,
     "metadata": {},
     "output_type": "execute_result"
    }
   ],
   "source": [
    "ipyfilechooser.__version__\n"
   ]
  },
  {
   "cell_type": "code",
   "execution_count": null,
   "metadata": {},
   "outputs": [],
   "source": []
  }
 ],
 "metadata": {
  "kernelspec": {
   "display_name": "Python 3",
   "language": "python",
   "name": "python3"
  },
  "language_info": {
   "codemirror_mode": {
    "name": "ipython",
    "version": 3
   },
   "file_extension": ".py",
   "mimetype": "text/x-python",
   "name": "python",
   "nbconvert_exporter": "python",
   "pygments_lexer": "ipython3",
   "version": "3.7.4"
  }
 },
 "nbformat": 4,
 "nbformat_minor": 2
}
